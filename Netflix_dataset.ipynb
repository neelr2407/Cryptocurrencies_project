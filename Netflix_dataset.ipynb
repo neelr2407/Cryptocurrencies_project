{
 "cells": [
  {
   "cell_type": "code",
   "execution_count": null,
   "id": "bc4d3f47",
   "metadata": {},
   "outputs": [],
   "source": [
    "import pandas as pd\n",
    "import numpy as np\n",
    "import matplotlib.pyplot as plt\n",
    "import seaborn as sns\n",
    "plt.style.use('ggplot')\n",
    "#pd.set_option('max_columns', 50)\n"
   ]
  },
  {
   "cell_type": "code",
   "execution_count": null,
   "id": "505963dc",
   "metadata": {},
   "outputs": [],
   "source": [
    "import os \n",
    "working_directory = os.getcwd()\n",
    "print(working_directory)"
   ]
  },
  {
   "cell_type": "code",
   "execution_count": null,
   "id": "b66a336d",
   "metadata": {},
   "outputs": [],
   "source": [
    "path = working_directory + '/Data/netflix_titles_2021.csv'\n",
    "df = pd.read_csv(path)"
   ]
  },
  {
   "cell_type": "code",
   "execution_count": null,
   "id": "2ac66bf6",
   "metadata": {},
   "outputs": [],
   "source": [
    "df.shape"
   ]
  },
  {
   "cell_type": "code",
   "execution_count": null,
   "id": "17001d75",
   "metadata": {},
   "outputs": [],
   "source": [
    "df.head()"
   ]
  },
  {
   "cell_type": "code",
   "execution_count": null,
   "id": "f0cbb1bc",
   "metadata": {},
   "outputs": [],
   "source": [
    "df.dtypes"
   ]
  },
  {
   "cell_type": "code",
   "execution_count": null,
   "id": "20bb5f20",
   "metadata": {},
   "outputs": [],
   "source": [
    "df.describe"
   ]
  },
  {
   "cell_type": "code",
   "execution_count": null,
   "id": "bae64aae",
   "metadata": {},
   "outputs": [],
   "source": [
    "df.isnull().sum()"
   ]
  },
  {
   "cell_type": "code",
   "execution_count": null,
   "id": "92239a0c",
   "metadata": {},
   "outputs": [],
   "source": [
    "df.duplicated().sum()"
   ]
  },
  {
   "cell_type": "code",
   "execution_count": null,
   "id": "e092d028",
   "metadata": {},
   "outputs": [],
   "source": [
    "df2 = df.dropna()"
   ]
  },
  {
   "cell_type": "code",
   "execution_count": null,
   "id": "2c0a34f6",
   "metadata": {},
   "outputs": [],
   "source": [
    "df2.head()"
   ]
  },
  {
   "cell_type": "code",
   "execution_count": null,
   "id": "a1857bf1",
   "metadata": {},
   "outputs": [],
   "source": [
    "df2.isnull().sum()"
   ]
  },
  {
   "cell_type": "code",
   "execution_count": null,
   "id": "84b50d5d",
   "metadata": {},
   "outputs": [],
   "source": [
    "# Assign day, year, and month components to new columns using assign() method\n",
    "df2 = df2.assign(\n",
    "           date_added=pd.to_datetime(df2['date_added']),\n",
    "           day_added=df2['date_added'].dt.day,\n",
    "           year_added=df2['date_added'].dt.year,\n",
    "           month_added=df2['date_added'].dt.month,\n",
    ")\n",
    "\n",
    "# Convert year_added and day_added columns to int using astype() method\n",
    "df2 = df2.astype({'year_added': int, 'day_added': int})"
   ]
  },
  {
   "cell_type": "code",
   "execution_count": null,
   "id": "e6669dcf",
   "metadata": {},
   "outputs": [],
   "source": [
    "df2.head()"
   ]
  },
  {
   "cell_type": "code",
   "execution_count": null,
   "id": "201d019d",
   "metadata": {},
   "outputs": [],
   "source": [
    "df2.shape"
   ]
  },
  {
   "cell_type": "code",
   "execution_count": null,
   "id": "cf110dfc",
   "metadata": {},
   "outputs": [],
   "source": [
    "sns.countplot(x= 'type', data = df)\n",
    "plt.title('Type', y= 1.02)\n",
    "plt.show()"
   ]
  },
  {
   "cell_type": "code",
   "execution_count": null,
   "id": "220d4e49",
   "metadata": {},
   "outputs": [],
   "source": [
    "sns.countplot(x= 'rating', data = df)\n",
    "sns.countplot(x= 'rating', data = df).set_xticklabels(sns.countplot(x='rating', data = df).get_xticklabels(), rotation=90, ha=\"right\")\n",
    "plt.xlabel('Rating', fontsize=14)\n",
    "plt.ylabel('Count', fontsize=14)\n",
    "fig = plt.gcf()\n",
    "fig.set_size_inches(10,10)\n",
    "plt.title('Rating')"
   ]
  },
  {
   "cell_type": "code",
   "execution_count": null,
   "id": "b52f7164",
   "metadata": {},
   "outputs": [],
   "source": [
    "plt.figure(figsize=(10,8))\n",
    "sns.countplot(x='rating',hue='type',data=df)\n",
    "plt.title('Relation between Type and Rating')\n",
    "plt.xlabel('Rating', fontsize = 14)\n",
    "plt.ylabel('Count', fontsize=14)\n",
    "plt.show()"
   ]
  },
  {
   "cell_type": "code",
   "execution_count": null,
   "id": "1e637ece",
   "metadata": {},
   "outputs": [],
   "source": [
    "labels = ['Movie', 'TV show']\n",
    "size = df['type'].value_counts()\n",
    "colors = plt.cm.Wistia(np.linspace(0, 1, 2))\n",
    "explode = [0, 0.1]\n",
    "plt.rcParams['figure.figsize'] = (9, 9)\n",
    "plt.pie(size,labels=labels, colors = colors, explode = explode, shadow = True, startangle = 90, textprops={'fontsize': 14})\n",
    "plt.title('Distribution of Type', fontsize = 25)\n",
    "plt.legend()\n",
    "plt.show()"
   ]
  },
  {
   "cell_type": "code",
   "execution_count": null,
   "id": "db475c26",
   "metadata": {},
   "outputs": [],
   "source": [
    "from wordcloud import WordCloud"
   ]
  },
  {
   "cell_type": "code",
   "execution_count": null,
   "id": "62f838fa",
   "metadata": {},
   "outputs": [],
   "source": [
    "plt.subplots(figsize=(25,15))\n",
    "\n",
    "# Convert country values to strings\n",
    "country_strings = df['country'].astype(str)\n",
    "\n",
    "wordcloud = WordCloud(\n",
    "                          background_color='white',\n",
    "                          width=1920,\n",
    "                          height=1080\n",
    "                         ).generate(\" \".join(country_strings))\n",
    "plt.imshow(wordcloud)\n",
    "plt.axis('off')\n",
    "plt.savefig('country.png')\n",
    "plt.show()"
   ]
  },
  {
   "cell_type": "code",
   "execution_count": null,
   "id": "24815a1b",
   "metadata": {},
   "outputs": [],
   "source": [
    "plt.subplots(figsize=(25,15))\n",
    "\n",
    "# Convert country values to strings\n",
    "cast_strings = df['cast'].astype(str)\n",
    "\n",
    "wordcloud = WordCloud(\n",
    "                          background_color='white',\n",
    "                          width=1920,\n",
    "                          height=1080\n",
    "                         ).generate(\" \".join(cast_strings))\n",
    "plt.imshow(wordcloud)\n",
    "plt.axis('off')\n",
    "plt.savefig('cast.png')\n",
    "plt.show()"
   ]
  },
  {
   "cell_type": "code",
   "execution_count": null,
   "id": "3656bba1",
   "metadata": {},
   "outputs": [],
   "source": [
    "plt.subplots(figsize=(25,15))\n",
    "\n",
    "# Convert country values to strings\n",
    "director_strings = df['director'].astype(str)\n",
    "\n",
    "wordcloud = WordCloud(\n",
    "                          background_color='white',\n",
    "                          width=1920,\n",
    "                          height=1080\n",
    "                         ).generate(\" \".join(director_strings))\n",
    "plt.imshow(wordcloud)\n",
    "plt.axis('off')\n",
    "plt.savefig('cast.png')\n",
    "plt.show()"
   ]
  },
  {
   "cell_type": "code",
   "execution_count": null,
   "id": "91f2766f",
   "metadata": {},
   "outputs": [],
   "source": [
    "plt.subplots(figsize=(25,15))\n",
    "\n",
    "# Convert country values to strings\n",
    "category_strings = df['listed_in'].astype(str)\n",
    "\n",
    "wordcloud = WordCloud(\n",
    "                          background_color='white',\n",
    "                          width=1920,\n",
    "                          height=1080\n",
    "                         ).generate(\" \".join(category_strings))\n",
    "plt.imshow(wordcloud)\n",
    "plt.axis('off')\n",
    "plt.savefig('cast.png')\n",
    "plt.show()"
   ]
  },
  {
   "cell_type": "code",
   "execution_count": null,
   "id": "769a87c5",
   "metadata": {},
   "outputs": [],
   "source": []
  }
 ],
 "metadata": {
  "kernelspec": {
   "display_name": "Python 3 (ipykernel)",
   "language": "python",
   "name": "python3"
  },
  "language_info": {
   "codemirror_mode": {
    "name": "ipython",
    "version": 3
   },
   "file_extension": ".py",
   "mimetype": "text/x-python",
   "name": "python",
   "nbconvert_exporter": "python",
   "pygments_lexer": "ipython3",
   "version": "3.10.9"
  }
 },
 "nbformat": 4,
 "nbformat_minor": 5
}
