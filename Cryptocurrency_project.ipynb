{
 "cells": [
  {
   "cell_type": "code",
   "execution_count": null,
   "id": "ee583f2b",
   "metadata": {},
   "outputs": [],
   "source": [
    "from requests import Request, Session\n",
    "from requests.exceptions import ConnectionError, Timeout, TooManyRedirects\n",
    "import json\n",
    "\n",
    "url = 'https://pro-api.coinmarketcap.com/v1/cryptocurrency/listings/latest'\n",
    "parameters = {\n",
    "  'start':'1',\n",
    "  'limit':'20',\n",
    "  'convert':'USD'\n",
    "}\n",
    "headers = {\n",
    "  'Accepts': 'application/json',\n",
    "  'X-CMC_PRO_API_KEY': '114897c7-fc98-4d4f-b667-bbd6c56cd6b4',\n",
    "}\n",
    "\n",
    "session = Session()\n",
    "session.headers.update(headers)\n",
    "\n",
    "try:\n",
    "  response = session.get(url, params=parameters)\n",
    "  data = json.loads(response.text)\n",
    "  print(data)\n",
    "except (ConnectionError, Timeout, TooManyRedirects) as e:\n",
    "  print(e)"
   ]
  },
  {
   "cell_type": "code",
   "execution_count": null,
   "id": "3d5108a4",
   "metadata": {},
   "outputs": [],
   "source": [
    "type(data)\n"
   ]
  },
  {
   "cell_type": "code",
   "execution_count": null,
   "id": "ae6c70a4",
   "metadata": {},
   "outputs": [],
   "source": [
    "import pandas as pd\n",
    "\n",
    "pd.set_option('display.max_columns', None)\n",
    "pd.set_option('display.max_rows', None)\n",
    "\n",
    "\n",
    "df = pd.json_normalize(data['data'])\n",
    "df['timestamp'] = pd.to_datetime('now')\n",
    "df"
   ]
  },
  {
   "cell_type": "code",
   "execution_count": null,
   "id": "831442c1",
   "metadata": {},
   "outputs": [],
   "source": [
    "def api_runner():\n",
    "    global df\n",
    "    url = 'https://pro-api.coinmarketcap.com/v1/cryptocurrency/listings/latest'\n",
    "    parameters = {\n",
    "         'start':'1',\n",
    "         'limit':'20',\n",
    "         'convert':'USD'\n",
    "    }\n",
    "    headers = {\n",
    "      'Accepts': 'application/json',\n",
    "      'X-CMC_PRO_API_KEY': '114897c7-fc98-4d4f-b667-bbd6c56cd6b4',\n",
    "    }\n",
    "\n",
    "    session = Session()\n",
    "    session.headers.update(headers)\n",
    "\n",
    "    try:\n",
    "      response = session.get(url, params=parameters)\n",
    "      data = json.loads(response.text)\n",
    "      print(data)\n",
    "    except (ConnectionError, Timeout, TooManyRedirects) as e:\n",
    "     print(e)\n",
    "    \n",
    "    \n",
    "    df2 = pd.json_normalize(data['data'])\n",
    "    df2['timestamp'] = pd.to_datetime('now')\n",
    "    df = df.append(df2)\n",
    "    \n",
    "    \n",
    "    if not os.path.isfile(r'/Users/neelrajwat/API.csv'):\n",
    "        df.to_csv('/Users/neelrajwat/API.csv', header = 'column_names')\n",
    "    else:\n",
    "        df.to_csv('/Users/neelrajwat/API.csv', mode = 'a', header = False)"
   ]
  },
  {
   "cell_type": "code",
   "execution_count": null,
   "id": "25d43588",
   "metadata": {},
   "outputs": [],
   "source": [
    "import os\n",
    "from time import time\n",
    "from time import sleep\n",
    "\n",
    "for i in range(222):\n",
    "    api_runner()\n",
    "    print(\"API run completed.\")\n",
    "    sleep(60)\n",
    "exit()"
   ]
  },
  {
   "cell_type": "code",
   "execution_count": null,
   "id": "4457d0f8",
   "metadata": {},
   "outputs": [],
   "source": [
    "df4 = pd.read_csv(r'/Users/neelrajwat/API.csv')\n",
    "df4"
   ]
  },
  {
   "cell_type": "code",
   "execution_count": null,
   "id": "dad11cf9",
   "metadata": {},
   "outputs": [],
   "source": [
    "pd.set_option('display.float_format', lambda x: '%.5f' % x)"
   ]
  },
  {
   "cell_type": "code",
   "execution_count": null,
   "id": "47530f6f",
   "metadata": {},
   "outputs": [],
   "source": [
    "df4"
   ]
  },
  {
   "cell_type": "code",
   "execution_count": null,
   "id": "fad6961a",
   "metadata": {},
   "outputs": [],
   "source": [
    "df5 = df4.groupby('name', sort = False)[['quote.USD.percent_change_1h','quote.USD.percent_change_24h','quote.USD.percent_change_7d','quote.USD.percent_change_30d','quote.USD.percent_change_60d','quote.USD.percent_change_90d']].mean()\n",
    "df5"
   ]
  },
  {
   "cell_type": "code",
   "execution_count": null,
   "id": "e8250d9b",
   "metadata": {},
   "outputs": [],
   "source": [
    "df6 = df5.stack()\n",
    "df6\n"
   ]
  },
  {
   "cell_type": "code",
   "execution_count": null,
   "id": "24648413",
   "metadata": {},
   "outputs": [],
   "source": [
    "type(df6)"
   ]
  },
  {
   "cell_type": "code",
   "execution_count": null,
   "id": "a2a3bd50",
   "metadata": {},
   "outputs": [],
   "source": [
    "df7 = df6.to_frame(name='values')\n",
    "df7"
   ]
  },
  {
   "cell_type": "code",
   "execution_count": null,
   "id": "f088f10b",
   "metadata": {},
   "outputs": [],
   "source": [
    "df7.count()"
   ]
  },
  {
   "cell_type": "code",
   "execution_count": null,
   "id": "a1f1810e",
   "metadata": {},
   "outputs": [],
   "source": [
    "index = pd.Index(range(120))\n",
    "\n",
    "df8 = df7.reset_index()\n",
    "df8"
   ]
  },
  {
   "cell_type": "code",
   "execution_count": null,
   "id": "5603497b",
   "metadata": {},
   "outputs": [],
   "source": [
    "df9 = df8.rename(columns = {'level_1':'duration'})\n",
    "df9"
   ]
  },
  {
   "cell_type": "code",
   "execution_count": null,
   "id": "6d1df05c",
   "metadata": {},
   "outputs": [],
   "source": [
    "df9['duration'] = df9['duration'].replace(['quote.USD.percent_change_1h','quote.USD.percent_change_24h','quote.USD.percent_change_7d','quote.USD.percent_change_30d','quote.USD.percent_change_60d','quote.USD.percent_change_90d'],['1H','24H','7D','30D','60D','90D'])\n",
    "df9"
   ]
  },
  {
   "cell_type": "code",
   "execution_count": null,
   "id": "a028baa4",
   "metadata": {},
   "outputs": [],
   "source": [
    "import seaborn as sns\n",
    "import matplotlib.pyplot as plt"
   ]
  },
  {
   "cell_type": "code",
   "execution_count": null,
   "id": "9309972a",
   "metadata": {},
   "outputs": [],
   "source": [
    "sns.scatterplot(x='duration',y='values', hue = 'name', data = df9)\n",
    "plt.legend(title = 'cryptocurrencies', title_fontsize = 'x-large', shadow = True, loc='upper left', bbox_to_anchor=(1.1, 1.1))\n",
    "plt.show()"
   ]
  },
  {
   "cell_type": "code",
   "execution_count": null,
   "id": "7b4bb70d",
   "metadata": {},
   "outputs": [],
   "source": [
    "df10 = df[['name', 'quote.USD.price','timestamp']]\n",
    "df10 = df10.query(\"name == 'Ethereum'\")\n",
    "df10"
   ]
  },
  {
   "cell_type": "code",
   "execution_count": null,
   "id": "0ae38d47",
   "metadata": {},
   "outputs": [],
   "source": [
    "df10['timestamp'] = df10['timestamp'].replace(['2023-04-27 16:18:01.329977'], ['16:18'])\n",
    "df10"
   ]
  },
  {
   "cell_type": "code",
   "execution_count": null,
   "id": "3bb1bfff",
   "metadata": {},
   "outputs": [],
   "source": [
    "sns.set_theme(style='darkgrid')\n",
    "\n",
    "line_plot = sns.lineplot(x='timestamp',y='quote.USD.price', data = df10)\n",
    "plt.ylabel(\"Price in USD\")\n",
    "line_plot.set_xticklabels(line_plot.get_xticklabels(), rotation=45)\n"
   ]
  },
  {
   "cell_type": "code",
   "execution_count": null,
   "id": "512a731c",
   "metadata": {},
   "outputs": [],
   "source": []
  }
 ],
 "metadata": {
  "kernelspec": {
   "display_name": "Python 3 (ipykernel)",
   "language": "python",
   "name": "python3"
  },
  "language_info": {
   "codemirror_mode": {
    "name": "ipython",
    "version": 3
   },
   "file_extension": ".py",
   "mimetype": "text/x-python",
   "name": "python",
   "nbconvert_exporter": "python",
   "pygments_lexer": "ipython3",
   "version": "3.10.9"
  }
 },
 "nbformat": 4,
 "nbformat_minor": 5
}
